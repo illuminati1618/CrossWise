{
 "cells": [
  {
   "cell_type": "markdown",
   "metadata": {},
   "source": [
    "---\n",
    "layout: post\n",
    "categories: [CSP Sprint Objectives]\n",
    "title: Binary Base 2 Math\n",
    "description:  Class Presentation by Yuva and Yash\n",
    "type: issues \n",
    "comments: true\n",
    "permalink: /csp/binarybase2\n",
    "---"
   ]
  },
  {
   "cell_type": "markdown",
   "source": [
    "# Binary Logic - By Yash and Yuva"
   ],
   "metadata": {
    "collapsed": false
   }
  },
  {
   "cell_type": "markdown",
   "source": [
    "# Binary Logic - By Yash and Yuva\n",
    "\n",
    "## Introduction to Binary Logic\n",
    "Binary logic is the foundation of digital systems and computing. It consists of two states: **1 (true)** and **0 (false)**. These values are used in logic gates and circuits to perform operations that enable computer processing.\n",
    "\n",
    "### Why is Binary Logic Important?\n",
    "- Forms the basis of all computing operations.\n",
    "- Used in decision-making circuits.\n",
    "- Essential for programming and electronics.\n",
    "\n",
    "## Logic Gates and Their Functions\n",
    "Logic gates are the building blocks of digital circuits. Below are the fundamental logic gates:\n",
    "\n",
    "### AND Gate\n",
    "- Output is **1** only when both inputs are **1**.\n",
    "- Boolean Expression: `A • B`\n",
    "- Truth Table:"
   ],
   "metadata": {
    "collapsed": false
   }
  },
  {
   "cell_type": "markdown",
   "source": [
    "  | A | B | Output |\n",
    "  |---|---|--------|\n",
    "  | 0 | 0 |   0    |\n",
    "  | 0 | 1 |   0    |\n",
    "  | 1 | 0 |   0    |\n",
    "  | 1 | 1 |   1    |"
   ],
   "metadata": {
    "collapsed": false
   }
  },
  {
   "cell_type": "markdown",
   "source": [
    "### OR Gate\n",
    "- Output is **1** if at least one input is **1**.\n",
    "- Boolean Expression: `A + B`\n",
    "- Truth Table:\n",
    "  \n",
    "  | A | B | Output |\n",
    "  |---|---|--------|\n",
    "  | 0 | 0 |   0    |\n",
    "  | 0 | 1 |   1    |\n",
    "  | 1 | 0 |   1    |\n",
    "  | 1 | 1 |   1    |"
   ],
   "metadata": {
    "collapsed": false
   }
  },
  {
   "cell_type": "markdown",
   "source": [
    "### NOT Gate\n",
    "- Inverts the input.\n",
    "- Boolean Expression: `A'`\n",
    "- Truth Table:\n",
    "  \n",
    "  | A | Output |\n",
    "  |---|--------|\n",
    "  | 0 |   1    |\n",
    "  | 1 |   0    |"
   ],
   "metadata": {
    "collapsed": false
   }
  },
  {
   "cell_type": "markdown",
   "source": [
    "### XOR Gate\n",
    "- Output is **1** when inputs are different.\n",
    "- Boolean Expression: `A ⊕ B`\n",
    "- Truth Table:"
   ],
   "metadata": {
    "collapsed": false
   }
  },
  {
   "cell_type": "markdown",
   "source": [
    "  | A | B | Output |\n",
    "  |---|---|--------|\n",
    "  | 0 | 0 |   0    |\n",
    "  | 0 | 1 |   1    |\n",
    "  | 1 | 0 |   1    |\n",
    "  | 1 | 1 |   0    |"
   ],
   "metadata": {
    "collapsed": false
   }
  },
  {
   "cell_type": "markdown",
   "source": [
    "## Real-World Applications\n",
    "- **Computers and Processors:** CPUs use logic gates for computations.\n",
    "- **Traffic Lights:** Control systems use binary logic to change signals.\n",
    "- **Security Systems:** Logic gates determine access permissions.\n"
   ],
   "metadata": {
    "collapsed": false
   }
  },
  {
   "cell_type": "markdown",
   "source": [
    "## Popcorn Hacks \n",
    "### Hack 1: Truth Table Challenge\n",
    "Write the truth table for a **3-input AND gate** (`A • B • C`).\n",
    "\n",
    "### Hack 2: Logic Gate Maze\n",
    "Create a flowchart using **AND, OR, and NOT gates** to determine if a person can enter a club. The rules:\n",
    "- Must be **18 or older**.\n",
    "- Must have a **membership card or a guest pass**.\n",
    "- **Banned individuals cannot enter.**\n"
   ],
   "metadata": {
    "collapsed": false
   }
  },
  {
   "cell_type": "markdown",
   "source": [
    "### Hack 3: DIY Logic Circuit\n",
    "Using Python, create a program that simulates an XOR gate. Try it with different input values and print the output.\n"
   ],
   "metadata": {
    "collapsed": false
   }
  },
  {
   "cell_type": "markdown",
   "source": [],
   "metadata": {
    "collapsed": false
   }
  },
  {
   "cell_type": "code",
   "execution_count": null,
   "outputs": [],
   "source": [
    "```python\n",
    "A = int(input(\"Enter 0 or 1 for A: \"))\n",
    "B = int(input(\"Enter 0 or 1 for B: \"))\n",
    "Output = A ^ B\n",
    "print(f\"XOR Output: {Output}\")"
   ],
   "metadata": {
    "collapsed": false
   }
  },
  {
   "cell_type": "markdown",
   "source": [
    "## Hack 4: Mystery Logic Puzzle\n",
    "\n",
    "# Fill in the missing gate:\n",
    "(A ? B) = (A AND B) OR (NOT A AND NOT B)\n",
    "**What gate should replace ? to make this equation correct?**\n"
   ],
   "metadata": {
    "collapsed": false
   }
  },
  {
   "cell_type": "markdown",
   "source": [
    "# Conclusion\n",
    "\n",
    "Binary logic is the backbone of computing. Understanding logic gates will help you in programming, electronics, and digital system design. Keep exploring and try designing your own logic circuits!"
   ],
   "metadata": {
    "collapsed": false
   }
  }
 ],
 "metadata": {
  "language_info": {
   "name": "python"
  },
  "kernelspec": {
   "name": "python3",
   "language": "python",
   "display_name": "Python 3 (ipykernel)"
  }
 },
 "nbformat": 4,
 "nbformat_minor": 2
}
