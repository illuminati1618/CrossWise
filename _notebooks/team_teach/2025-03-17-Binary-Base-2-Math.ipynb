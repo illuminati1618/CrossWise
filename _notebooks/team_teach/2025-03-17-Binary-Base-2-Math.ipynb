{
 "cells": [
  {
   "cell_type": "markdown",
   "metadata": {},
   "source": [
    "---\n",
    "layout: post\n",
    "categories: [CSP Sprint Objectives]\n",
    "title: Binary Base 2 Math\n",
    "description:  Class Presentation by Yuva and Yash\n",
    "type: issues \n",
    "comments: true\n",
    "permalink: /csp/binarybase2\n",
    "---"
   ]
  }
 ],
 "metadata": {
  "kernelspec": {
   "display_name": "Python 3 (ipykernel)",
   "language": "python",
   "name": "python3"
  },
  "language_info": {
   "name": "python"
  }
 },
 "nbformat": 4,
 "nbformat_minor": 2
}
