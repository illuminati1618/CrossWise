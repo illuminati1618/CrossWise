{
 "cells": [
  {
   "cell_type": "markdown",
   "metadata": {},
   "source": []
  },
  {
   "cell_type": "markdown",
   "metadata": {
    "vscode": {
     "languageId": "plaintext"
    }
   },
   "source": [
    "# Popcorn Hack\n",
    "Choosing the Most Efficient Coding Approach\n",
    "ask:\n",
    "\"You need to check if a number is even or odd in your program. Which two strategies are the most efficient?\"\n",
    ":computer: Options:\n",
    ":one: Divide the number by 2 and check if the result is a whole number.\n",
    " :two: Check if the last digit is 0, 2, 4, 6, or 8 manually.\n",
    " :three: Use the modulus operator (%) to check if the remainder when divided by 2 is 0.\n",
    " :four: Convert the number to a string and check if the last character is an even digit.\n",
    " :five: Subtract 2 repeatedly until you reach 0 or 1, then check the result.\n",
    " :six: Generate a list of all even numbers and check if the number is in the list.\n",
    ":speech_balloon: Choose the TWO most efficient strategies and explain why in two sentences."
   ]
  },
  {
   "cell_type": "markdown",
   "metadata": {},
   "source": [
    "# Lesson Plan\n",
    "\n",
    "Hook (1 Minute) – Why Does Efficiency Matter?\n",
    "Ask:\n",
    " \"Have you ever waited for an app to load and thought, ‘This is taking forever!’?\"\n",
    ":arrow_right: Efficiency in computing = making programs run faster and better.\n",
    " :arrow_right: It’s why modern apps feel smooth and why Google Search takes milliseconds instead of minutes.\n",
    ":zap: Interactive Example\n",
    ":arrow_right: “What’s the fastest way to find a song on your phone?”\n",
    "Option 1: Scroll through all songs manually.\n",
    "Option 2: Use the search bar and type the name.\n",
    "Point: The search bar is an efficient algorithm, while scrolling manually is not!\n",
    ":two: Explanation: What is Algorithmic Efficiency? (1.5 Minutes)\n",
    "Definition:\n",
    ":arrow_right: Algorithmic efficiency is how fast and resource-effective an algorithm is when solving a problem.\n",
    "Two Key Factors in Efficiency:\n",
    "Time Efficiency (Speed) → How fast does the algorithm run?\n",
    "Space Efficiency (Memory Usage) → How much memory does it use?\n",
    ":arrow_right: Some algorithms are fast but use more memory\n",
    " :arrow_right: Others use less memory but run slower\n",
    "Real-World Example: Streaming vs. Downloading a Video\n",
    "Streaming: Loads instantly (efficient in speed), but constantly downloads data (uses more memory).\n",
    "Downloading: Takes time to download but plays instantly later (efficient in memory).\n",
    ":hammer_and_wrench: Computer scientists must balance these factors when designing programs!\n",
    ":three: Activity: Comparing Algorithmic Approaches (1 Minute)\n",
    "Scenario: Finding a Name in a List of 1000 Students\n",
    "Ask:\n",
    " :arrow_right: \"You need to find your friend’s name in a huge list. What’s the best way?\"\n",
    "Approaches to Compare:\n",
    "Check every name one by one :turtle: (Inefficient)\n",
    "Look for an alphabetical order and jump to the correct section :zap: (More efficient)\n",
    ":bulb: Key Takeaway: There are multiple ways to solve a problem, but some are much faster and better suited for large amounts of data.\n",
    ":four: Real-World Trade-Offs: Time vs. Space vs. Energy (1 Minute)\n",
    "Not all problems require the fastest solution—sometimes, we need balance.\n",
    "Efficiency Trade-Offs Matter When:\n",
    "A program runs on limited memory (like a smartwatch)\n",
    "A program needs to save battery (like a phone app)\n",
    "A program must be easy to understand and maintain\n",
    ":pushpin: Example: Why do some mobile games use simple graphics?\n",
    " :arrow_right: High-detail graphics slow down devices & drain battery (less efficient).\n",
    ":bulb: Computer scientists decide which factor—speed, memory, or power—is most important for a task!\n",
    ":five: Wrap-Up: Why Algorithmic Efficiency Matters in CSP (0.5 Minute)\n",
    "Efficient algorithms make apps, websites, and programs faster.\n",
    "Engineers balance speed, memory, and power to create better software.\n",
    "As CSP students, you’ll write code that needs to be efficient—not just work!\n",
    "Final Thought :bulb::\n",
    "\"The best solution isn't always the easiest—it's the one that balances speed, memory, and usability!\""
   ]
  }
 ],
 "metadata": {
  "language_info": {
   "name": "python"
  }
 },
 "nbformat": 4,
 "nbformat_minor": 2
}
