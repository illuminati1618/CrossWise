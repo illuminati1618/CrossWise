{
 "cells": [
  {
   "cell_type": "markdown",
   "source": [],
   "metadata": {
    "collapsed": false
   },
   "id": "febd6a63654032f1"
  },
  {
   "cell_type": "code",
   "execution_count": null,
   "id": "initial_id",
   "metadata": {
    "collapsed": true
   },
   "outputs": [],
   "source": [
    "# Binary Logic - By Yash and Yuva\n",
    "\n",
    "## Introduction to Binary Logic\n",
    "Binary logic is the foundation of digital systems and computing. It consists of two states: **1 (true)** and **0 (false)**. These values are used in logic gates and circuits to perform operations that enable computer processing.\n",
    "\n",
    "### Why is Binary Logic Important?\n",
    "- Forms the basis of all computing operations.\n",
    "- Used in decision-making circuits.\n",
    "- Essential for programming and electronics.\n",
    "\n",
    "## Logic Gates and Their Functions\n",
    "Logic gates are the building blocks of digital circuits. Below are the fundamental logic gates:\n",
    "\n",
    "### AND Gate\n",
    "- Output is **1** only when both inputs are **1**.\n",
    "- Boolean Expression: `A • B`\n",
    "- Truth Table:\n",
    "  \n",
    "  | A | B | Output |\n",
    "  |---|---|--------|\n",
    "  | 0 | 0 |   0    |\n",
    "  | 0 | 1 |   0    |\n",
    "  | 1 | 0 |   0    |\n",
    "  | 1 | 1 |   1    |\n",
    "\n",
    "### OR Gate\n",
    "- Output is **1** if at least one input is **1**.\n",
    "- Boolean Expression: `A + B`\n",
    "- Truth Table:\n",
    "  \n",
    "  | A | B | Output |\n",
    "  |---|---|--------|\n",
    "  | 0 | 0 |   0    |\n",
    "  | 0 | 1 |   1    |\n",
    "  | 1 | 0 |   1    |\n",
    "  | 1 | 1 |   1    |\n",
    "\n",
    "### NOT Gate\n",
    "- Inverts the input.\n",
    "- Boolean Expression: `A'`\n",
    "- Truth Table:\n",
    "  \n",
    "  | A | Output |\n",
    "  |---|--------|\n",
    "  | 0 |   1    |\n",
    "  | 1 |   0    |\n",
    "\n",
    "### XOR Gate\n",
    "- Output is **1** when inputs are different.\n",
    "- Boolean Expression: `A ⊕ B`\n",
    "- Truth Table:\n",
    "  \n",
    "  | A | B | Output |\n",
    "  |---|---|--------|\n",
    "  | 0 | 0 |   0    |\n",
    "  | 0 | 1 |   1    |\n",
    "  | 1 | 0 |   1    |\n",
    "  | 1 | 1 |   0    |\n",
    "\n",
    "## Real-World Applications\n",
    "- **Computers and Processors:** CPUs use logic gates for computations.\n",
    "- **Traffic Lights:** Control systems use binary logic to change signals.\n",
    "- **Security Systems:** Logic gates determine access permissions.\n",
    "\n",
    "## Popcorn Hacks 🍿\n",
    "\n"
   ]
  },
  {
   "cell_type": "markdown",
   "source": [
    "### Hack 1: Truth Table Challenge\n",
    "Write the truth table for a **3-input AND gate** (`A • B • C`)."
   ],
   "metadata": {
    "collapsed": false
   },
   "id": "84efd3b7cfe35d90"
  },
  {
   "cell_type": "markdown",
   "source": [
    "### Hack 2: Logic Gate Maze\n",
    "Create a flowchart using **AND, OR, and NOT gates** to determine if a person can enter a club. The rules:\n",
    "- Must be **18 or older**.\n",
    "- Must have a **membership card or a guest pass**.\n",
    "- **Banned individuals cannot enter.**"
   ],
   "metadata": {
    "collapsed": false
   },
   "id": "91c2dad64c2639d7"
  },
  {
   "cell_type": "markdown",
   "source": [
    "### Hack 3: DIY Logic Circuit\n",
    "Using Python, create a program that simulates an XOR gate. Try it with different input values and print the output."
   ],
   "metadata": {
    "collapsed": false
   },
   "id": "4d6e2d7c7d1d01ac"
  },
  {
   "cell_type": "code",
   "execution_count": null,
   "outputs": [],
   "source": [
    "```python\n",
    "A = int(input(\"Enter 0 or 1 for A: \"))\n",
    "B = int(input(\"Enter 0 or 1 for B: \"))\n",
    "Output = A ^ B\n",
    "print(f\"XOR Output: {Output}\")"
   ],
   "metadata": {
    "collapsed": false
   },
   "id": "893f156dabe4f414"
  }
 ],
 "metadata": {
  "kernelspec": {
   "display_name": "Python 3",
   "language": "python",
   "name": "python3"
  },
  "language_info": {
   "codemirror_mode": {
    "name": "ipython",
    "version": 2
   },
   "file_extension": ".py",
   "mimetype": "text/x-python",
   "name": "python",
   "nbconvert_exporter": "python",
   "pygments_lexer": "ipython2",
   "version": "2.7.6"
  }
 },
 "nbformat": 4,
 "nbformat_minor": 5
}
